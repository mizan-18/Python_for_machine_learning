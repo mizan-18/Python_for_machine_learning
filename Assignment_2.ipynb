{
 "cells": [
  {
   "cell_type": "code",
   "execution_count": 3,
   "id": "cbf43c46",
   "metadata": {},
   "outputs": [
    {
     "name": "stdout",
     "output_type": "stream",
     "text": [
      "Enter the value of first variable: 45\n",
      "Enter the value of second variable: 35\n",
      "The value of first variable: 35\n",
      "The value of second variable: 45\n"
     ]
    }
   ],
   "source": [
    "# 1. Write a program that swaps the values of two variables.\n",
    "a = input(\"Enter the value of first variable: \")\n",
    "b = input(\"Enter the value of second variable: \")\n",
    "print(f\"The value of first variable: {b}\")\n",
    "print(f\"The value of second variable: {a}\")"
   ]
  },
  {
   "cell_type": "code",
   "execution_count": 5,
   "id": "85995cd8",
   "metadata": {},
   "outputs": [
    {
     "name": "stdout",
     "output_type": "stream",
     "text": [
      "Enter the length of a rectangle: 5\n",
      "Enter the width of a rectangle: 10\n",
      "The area of a rectangle: 50.0\n"
     ]
    }
   ],
   "source": [
    "# 2. Write a program that calculates the area of a rectangle given its length and width.\n",
    "\n",
    "a = float(input(\"Enter the length of a rectangle: \"))\n",
    "b = float(input(\"Enter the width of a rectangle: \"))\n",
    "print(f\"The area of a rectangle: {a*b}\")\n"
   ]
  },
  {
   "cell_type": "code",
   "execution_count": 7,
   "id": "b33b6fb0",
   "metadata": {},
   "outputs": [
    {
     "name": "stdout",
     "output_type": "stream",
     "text": [
      "Enter the temperature of Fahrenheit: 50\n",
      "The temperature of Celsius: 10.0\n"
     ]
    }
   ],
   "source": [
    "#3. Write a program that converts temperature from Fahrenheit to Celsius.\n",
    "\n",
    "a = float(input(\"Enter the temperature of Fahrenheit: \"))\n",
    "\n",
    "c=((a-32)*5)/9\n",
    "\n",
    "print(f\"The temperature of Celsius: {c}\")"
   ]
  },
  {
   "cell_type": "code",
   "execution_count": 18,
   "id": "3cef8236",
   "metadata": {},
   "outputs": [
    {
     "name": "stdout",
     "output_type": "stream",
     "text": [
      "Enter the radius of a sphere: 5\n",
      "The volume of given sphere is 523.60\n"
     ]
    }
   ],
   "source": [
    "#4. Write a program that calculates the volume of a sphere given its radius.\n",
    "import math\n",
    "\n",
    "r = float(input(\"Enter the radius of a sphere: \"))\n",
    "v = (4/3) * math.pi * (r**3)\n",
    "    \n",
    "print(f\"The volume of given sphere is {v:.2f}\")\n",
    "    \n",
    "\n"
   ]
  },
  {
   "cell_type": "code",
   "execution_count": 19,
   "id": "eecb0957",
   "metadata": {},
   "outputs": [
    {
     "name": "stdout",
     "output_type": "stream",
     "text": [
      "Enter the number 1: 3\n",
      "Enter the number 2: 4\n",
      "Enter the number 3: 5\n",
      "The average of three numbers: 4.0\n"
     ]
    }
   ],
   "source": [
    "# 5. Write a program that finds the average of three numbers.\n",
    "\n",
    "a=int(input(\"Enter the number 1: \"))\n",
    "b= int(input(\"Enter the number 2: \"))\n",
    "c= int(input(\"Enter the number 3: \"))\n",
    "print(f\"The average of three numbers: {(a+b+c)/3}\")"
   ]
  },
  {
   "cell_type": "code",
   "execution_count": 21,
   "id": "91e1d98e",
   "metadata": {},
   "outputs": [
    {
     "name": "stdout",
     "output_type": "stream",
     "text": [
      "Enter the number: 8\n",
      "The given number 8 is even.\n"
     ]
    }
   ],
   "source": [
    "#6. Write a program that determines if a number is even or odd.\n",
    "\n",
    "a=int(input(\"Enter the number: \"))\n",
    "if a%2==0:\n",
    "    print(f\"The given number {a} is even.\")\n",
    "    \n",
    "else:\n",
    "    print(f\"The given number {a} is odd.\")\n"
   ]
  },
  {
   "cell_type": "code",
   "execution_count": 33,
   "id": "3144bfe6",
   "metadata": {},
   "outputs": [
    {
     "name": "stdout",
     "output_type": "stream",
     "text": [
      "Enter the number 112\n",
      "Enter the number 245\n",
      "Enter the number 315\n",
      "The maximum of given three numbers is:45\n"
     ]
    }
   ],
   "source": [
    "# 7. Write a program that finds the maximum of three numbers.\n",
    "\n",
    "a=int(input(\"Enter the number 1: \"))\n",
    "b= int(input(\"Enter the number 2: \"))\n",
    "c= int(input(\"Enter the number 3: \"))\n",
    "max_munber=0\n",
    "if a>b and a>c:\n",
    "    max_number =a\n",
    "elif b>a and b>c:\n",
    "    max_number =b\n",
    "else:\n",
    "    max_number =c\n",
    "    \n",
    "print(f\"The maximum of given three numbers is : {max_number}\")\n"
   ]
  },
  {
   "cell_type": "code",
   "execution_count": 34,
   "id": "c11d7cb0",
   "metadata": {},
   "outputs": [
    {
     "name": "stdout",
     "output_type": "stream",
     "text": [
      "Enter a year: 2024\n",
      "The given year 2024 is a leap year\n"
     ]
    }
   ],
   "source": [
    "#8. Write a program that determines if a year is a leap year or not.\n",
    "\n",
    "a=int(input(\"Enter a year: \"))\n",
    "if a%4==0:\n",
    "    print(f\"The given year {a} is a leap year.\")\n",
    "else:\n",
    "    print(f\"The given year {a} is not a leap year.\")"
   ]
  },
  {
   "cell_type": "code",
   "execution_count": 18,
   "id": "d8d9537f",
   "metadata": {},
   "outputs": [
    {
     "name": "stdout",
     "output_type": "stream",
     "text": [
      "Enter a number:\n",
      "0\n",
      "The given number is zero\n"
     ]
    }
   ],
   "source": [
    "#9. Write a program that determines if a number is positive, negative, or zero.\n",
    "\n",
    "a=int(input(\"Enter a number: \"))\n",
    "if a>0:\n",
    "    print(\"The given number is positive.\")\n",
    "    \n",
    "elif a<0:\n",
    "    print(\"The given number is negative.\")\n",
    "    \n",
    "else:\n",
    "    print(\"The given number is zero.\")"
   ]
  },
  {
   "cell_type": "code",
   "execution_count": 35,
   "id": "fd99cc33",
   "metadata": {},
   "outputs": [
    {
     "name": "stdout",
     "output_type": "stream",
     "text": [
      "Enter your percentage(%): 78\n",
      "Your Grade for given parcentage is: A\n"
     ]
    }
   ],
   "source": [
    "#10. Write a program that calculates the grade based on a given percentage.\n",
    "\n",
    "a=int(input(\"Enter your percentage(%): \"))\n",
    "\n",
    "if a>100 or a<0:\n",
    "    print(\"Invalid percentage!\")\n",
    "    \n",
    "else:\n",
    "    if a>=80:\n",
    "        grd = \"A+\"\n",
    "        \n",
    "    elif a<80 and a>=75:\n",
    "        grd = \"A\"\n",
    "        \n",
    "    elif a<75 and a>=70:    \n",
    "        grd = \"A-\"\n",
    "       \n",
    "    elif a<70 and a>=65:  \n",
    "        grd = \"B+\"\n",
    "        \n",
    "    elif a<65 and a>=60: \n",
    "        grd = \"B\"\n",
    "        \n",
    "    elif a<60 and a>=55:     \n",
    "        grd = \"B-\"\n",
    "        \n",
    "    elif a<55 and a>=50: \n",
    "        grd = \"C+\"\n",
    "        \n",
    "    elif a<50 and a>=45: \n",
    "        grd = \"C\"\n",
    "        \n",
    "    elif a<45 and a>=40: \n",
    "        grd = \"D\"\n",
    "        \n",
    "    else:\n",
    "        grd = \"F\"  \n",
    "    print(f\"Your Grade for given parcentage is: {grd}\")\n",
    "        \n"
   ]
  },
  {
   "cell_type": "code",
   "execution_count": 36,
   "id": "c17f8b08",
   "metadata": {},
   "outputs": [
    {
     "name": "stdout",
     "output_type": "stream",
     "text": [
      "Enter the value of n: 10\n",
      "1\n",
      "2\n",
      "3\n",
      "4\n",
      "5\n",
      "6\n",
      "7\n",
      "8\n",
      "9\n",
      "10\n"
     ]
    }
   ],
   "source": [
    "# 11. Write a program that prints the first `n` natural numbers.\n",
    "\n",
    "a=int(input(\"Enter the value of n: \"))\n",
    "if a<=0:\n",
    "    print(\"Please enter right value of n!\")\n",
    "else:\n",
    "    for x in range (1,a+1):\n",
    "        print(x)"
   ]
  },
  {
   "cell_type": "code",
   "execution_count": 37,
   "id": "60034194",
   "metadata": {},
   "outputs": [
    {
     "name": "stdout",
     "output_type": "stream",
     "text": [
      "Enter a number:5\n",
      "The factorial of 5 is: 120\n"
     ]
    }
   ],
   "source": [
    "# 12. Write a program that calculates the factorial of a number.\n",
    "\n",
    "a=int(input(\"Enter a number:\"))\n",
    "fact = 1\n",
    "for x in range(2,a+1):\n",
    "    fact = fact*x\n",
    "    \n",
    "print(f\"The factorial of {a} is: {fact}\")"
   ]
  },
  {
   "cell_type": "code",
   "execution_count": 15,
   "id": "d17ed582",
   "metadata": {},
   "outputs": [
    {
     "name": "stdout",
     "output_type": "stream",
     "text": [
      "Enter the length of a Fibonacci sequence:\n",
      "10\n",
      "Fibonacci sequence:\n",
      "0\n",
      "1\n",
      "1\n",
      "2\n",
      "3\n",
      "5\n",
      "8\n",
      "13\n",
      "21\n",
      "34\n"
     ]
    }
   ],
   "source": [
    "# 13. Write a program that generates a Fibonacci sequence of length `n`.\n",
    "\n",
    "n = int(input(\"Enter the length of a Fibonacci sequence: \"))\n",
    "a = 0\n",
    "b = 1\n",
    "print(\"Fibonacci sequence:\")\n",
    "\n",
    "if n==1:\n",
    "    print(a)\n",
    "    \n",
    "else:\n",
    "    print(a)\n",
    "    print(b)\n",
    "    for x in range(2,n):\n",
    "        c = a+b\n",
    "        a = b\n",
    "        b = c\n",
    "        print(c)\n",
    "    "
   ]
  },
  {
   "cell_type": "code",
   "execution_count": 22,
   "id": "f2dd7818",
   "metadata": {},
   "outputs": [
    {
     "name": "stdout",
     "output_type": "stream",
     "text": [
      "Enter a number:\n",
      "5\n",
      "5 is Prime number\n"
     ]
    }
   ],
   "source": [
    "#14. Write a program that checks if a given number is prime or not.\n",
    "\n",
    "a=int(input(\"Enter a number: \"))\n",
    "count=0\n",
    "for x in range(2,a):\n",
    "    if a%x==0:\n",
    "        count = count+1\n",
    "        \n",
    "if count==0:\n",
    "    print(f\"{a} is Prime number.\")\n",
    "    \n",
    "else:\n",
    "    print(f\"{a} is Not prime.\")"
   ]
  },
  {
   "cell_type": "code",
   "execution_count": 10,
   "id": "40d7d047",
   "metadata": {},
   "outputs": [
    {
     "name": "stdout",
     "output_type": "stream",
     "text": [
      "Enter a number:\n",
      "5\n",
      "Enter the limit of multiplication:\n",
      "10\n",
      "Multiplication table for 5:\n",
      "5x1=5\n",
      "5x2=10\n",
      "5x3=15\n",
      "5x4=20\n",
      "5x5=25\n",
      "5x6=30\n",
      "5x7=35\n",
      "5x8=40\n",
      "5x9=45\n",
      "5x10=50\n"
     ]
    }
   ],
   "source": [
    "#15. Write a program that prints the multiplication table of a given number.\n",
    "\n",
    "a = int(input(\"Enter a number: \"))\n",
    "if a < 0:\n",
    "    print(\"Please enter a positive integer.\")\n",
    "    \n",
    "else:\n",
    "    n = int(input(\"Enter the limit of multiplication: \"))\n",
    "    \n",
    "    print(f\"Multiplication table for {a}:\")\n",
    "    for i in range(1, n + 1):\n",
    "        print(f\"{a}x{i}={a*i}\")\n",
    "    \n",
    "    \n"
   ]
  },
  {
   "cell_type": "code",
   "execution_count": 15,
   "id": "c498dcfd",
   "metadata": {},
   "outputs": [
    {
     "name": "stdout",
     "output_type": "stream",
     "text": [
      "Enter the last number:\n",
      "100\n",
      "The sum of all even numbers between 1 and 100 is: 2550\n"
     ]
    }
   ],
   "source": [
    "#16. Write a program that finds the sum of all even numbers between 1 and `n`.\n",
    "\n",
    "n = int(input(\"Enter the last number: \"))\n",
    "sum = 0\n",
    "for x in range(1,n+1):\n",
    "    if x%2==0:\n",
    "        sum = sum+x\n",
    "        \n",
    "print(f\"The sum of all even numbers between 1 and {n} is: {sum}\")\n"
   ]
  },
  {
   "cell_type": "code",
   "execution_count": 23,
   "id": "d5fa683b",
   "metadata": {},
   "outputs": [
    {
     "name": "stdout",
     "output_type": "stream",
     "text": [
      "12345\n",
      "The reversed number of 12345 is: 54321.\n"
     ]
    }
   ],
   "source": [
    "#17. Write a program that reverses a given number.\n",
    "\n",
    "given_number= input(\"Enter a number:\") \n",
    "\n",
    "reversed_number = given_number[::-1]\n",
    "\n",
    "print(f\"The reversed number of {given_number} is: {reversed_number}.\")\n"
   ]
  },
  {
   "cell_type": "code",
   "execution_count": 31,
   "id": "edfed2ad",
   "metadata": {},
   "outputs": [
    {
     "name": "stdout",
     "output_type": "stream",
     "text": [
      "Enter a string:racecar\n",
      "racecar, is a palindrome\n"
     ]
    }
   ],
   "source": [
    "# 18. Write a program that checks if a given string, is a palindrome.\n",
    "\n",
    "a = input(\"Enter a string:\")\n",
    "if a == a[::-1]:\n",
    "    print(f\"{a}, is a palindrome\")\n",
    "    \n",
    "else:\n",
    "    print(f\"{a}, is not a palindrome\")\n",
    "\n"
   ]
  },
  {
   "cell_type": "code",
   "execution_count": 30,
   "id": "45999e57",
   "metadata": {},
   "outputs": [
    {
     "name": "stdout",
     "output_type": "stream",
     "text": [
      "Enter your guess: 5\n",
      "Try again\n",
      "Enter your guess: 5\n",
      "Try again\n",
      "Enter your guess: 6\n",
      "Try again\n",
      "Enter your guess: 2\n",
      "Try again\n",
      "Enter your guess: 1\n",
      "Try again\n",
      "Enter your guess: 3\n",
      "Try again\n",
      "Enter your guess: 4\n",
      "You got it\n"
     ]
    }
   ],
   "source": [
    "# 19. Write a program that generates a random number and allows the user to guess it.\n",
    "import random\n",
    "random_number = random.randint(1,6)\n",
    "while True:\n",
    "    \n",
    "    a = int(input(\"Enter your guess: \"))\n",
    "    if a==random_number:\n",
    "        print(\"You guessed the correct number!\")\n",
    "        break;\n",
    "        \n",
    "    else:\n",
    "        print(\"Try again\")\n",
    "    "
   ]
  },
  {
   "cell_type": "code",
   "execution_count": 2,
   "id": "f08ec493",
   "metadata": {},
   "outputs": [
    {
     "name": "stdout",
     "output_type": "stream",
     "text": [
      "Enter first number: 980\n",
      "Enter second number: 9000\n",
      "The greatest common divisor (GCD) is 20.\n"
     ]
    }
   ],
   "source": [
    "#20. Write a program that finds the greatest common divisor (GCD) of two numbers.\n",
    "\n",
    "a = int(input(\"Enter first number: \"))\n",
    "b = int(input(\"Enter second number: \"))\n",
    "\n",
    "# Ensure that both numbers are positive integers\n",
    "if a < 0 or b < 0:\n",
    "    print(\"Please enter non-negative integers.\")\n",
    "else:\n",
    "    while b != 0:\n",
    "        a, b = b, a % b\n",
    "    print(f\"The greatest common divisor (GCD) is {a}.\")\n"
   ]
  }
 ],
 "metadata": {
  "kernelspec": {
   "display_name": "Python 3 (ipykernel)",
   "language": "python",
   "name": "python3"
  },
  "language_info": {
   "codemirror_mode": {
    "name": "ipython",
    "version": 3
   },
   "file_extension": ".py",
   "mimetype": "text/x-python",
   "name": "python",
   "nbconvert_exporter": "python",
   "pygments_lexer": "ipython3",
   "version": "3.11.5"
  }
 },
 "nbformat": 4,
 "nbformat_minor": 5
}
